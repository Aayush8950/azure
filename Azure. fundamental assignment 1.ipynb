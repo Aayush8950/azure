{
 "cells": [
  {
   "cell_type": "markdown",
   "id": "a0d9190d",
   "metadata": {},
   "source": [
    "# 1) What is cloud computing? What is Azure?"
   ]
  },
  {
   "cell_type": "code",
   "execution_count": null,
   "id": "9eb1ea3d",
   "metadata": {},
   "outputs": [],
   "source": [
    "\"\"\"#Cloud computing___\n",
    "Cloud computing is a  services happening on  the Internet\n",
    "that is providing data storage, servers, databases, networking, and software.\n",
    "Cloudbased storage makes helping us to aceeess files to a remote database and use them on demand.\n",
    "#azure_______\n",
    "all the services mentioned above is given by many platform likee google , azure etc\n",
    "so azzure is one of the cloud computing service provider\"\"\""
   ]
  },
  {
   "cell_type": "markdown",
   "id": "fda5cbc4",
   "metadata": {},
   "source": [
    "# 2)How to create an Azure account list the steps and requirements?"
   ]
  },
  {
   "cell_type": "code",
   "execution_count": null,
   "id": "2c04a50f",
   "metadata": {},
   "outputs": [],
   "source": [
    "\"\"\"i will discuss about free version bcz sir taught us only free version in videos\n",
    "step 1) need a microsoft account\n",
    "2) filll basic detials like adrees name age etc\n",
    "3) acpt terms and private policies\n",
    "4)needs a credit card for making a payment of rs.2\n",
    "5) select the region which you are in comfort ,i use bombay\n",
    "6) after that all services are ready to use for free for 12 months\"\"\""
   ]
  },
  {
   "cell_type": "markdown",
   "id": "2fa122a8",
   "metadata": {},
   "source": [
    "# 3)Describe different types of cloud models."
   ]
  },
  {
   "cell_type": "code",
   "execution_count": null,
   "id": "534a1410",
   "metadata": {},
   "outputs": [],
   "source": [
    "\"\"\"Platform_____  (paas)-------> paltform as a service\n",
    "\n",
    "paas is a computing platform that allows the user to create web applications quickly and easily\n",
    "and without worrying about buying and maintaining the software and infrastructure. \n",
    "\n",
    "\n",
    "infrastr.______________    (iaas)-----------------> infrastructure as a service\n",
    "\n",
    "can be defined as the use of servers, storage, computing power,network and virtualization \n",
    "to form utility like services for users.\n",
    "It is a cloud service model that provides hardware resources virtualized in the cloud. \n",
    "It provides virtual computing resources to the users through resource pool.\n",
    "\n",
    "\n",
    "software__________________________________  (saas)-----> software as a service\n",
    "\n",
    "Instead of installing and maintaining software, you simply access it via the Internet, freeing yourself from complex\n",
    "example--Salesforce.com provides the CRM (Customer Relation Manager) on a cloud infrastructure \n",
    "to its client and charges them for it, but software is owned by the salesforce company only\"\"\""
   ]
  },
  {
   "cell_type": "code",
   "execution_count": null,
   "id": "86dc0c34",
   "metadata": {},
   "outputs": [],
   "source": []
  },
  {
   "cell_type": "markdown",
   "id": "a123b8b3",
   "metadata": {},
   "source": [
    "# 4)Describe different cloud services"
   ]
  },
  {
   "cell_type": "markdown",
   "id": "032e96a8",
   "metadata": {},
   "source": [
    "# public                       private               hybrid"
   ]
  },
  {
   "cell_type": "code",
   "execution_count": null,
   "id": "b8e04b50",
   "metadata": {},
   "outputs": [],
   "source": [
    "\"\"\"# Public------->\n",
    "this cloud is open to all to store and access information via the Internet using the pay-per-usage method.\n",
    "In public cloud, computing resources are managed and operated by the Cloud Service Provider (CSP).\n",
    "Example: Amazon elastic compute cloud (EC2), IBM Smart Cloud Enterprise, Microsoft,\n",
    "Google App Engine, Windows Azure Services Platform.\n",
    "\"\"\"\n"
   ]
  },
  {
   "cell_type": "code",
   "execution_count": null,
   "id": "62a121b9",
   "metadata": {},
   "outputs": [],
   "source": [
    "\"\"\"Private_______________ \n",
    "this cloud is also known as an internal cloud or corporate cloud.\n",
    "It is used by organizations to build and manage their own data centers internally or by the third party.\n",
    "Private cloud provides a high level of security and privacy to the users.\n",
    "advantage____Private cloud offers better performance with improved speed and space capacity\n",
    "\n",
    "\n",
    "\"\"\""
   ]
  },
  {
   "cell_type": "code",
   "execution_count": null,
   "id": "73b878dd",
   "metadata": {},
   "outputs": [],
   "source": [
    "\"\"\"Hybrid Cloud______________\n",
    "this is a combination of the public cloud and the private cloud\n",
    "Hybrid cloud is partially secure because the services which are running on the public \n",
    "cloud can be accessed by anyone, while the services which are running on a private \n",
    "cloud can be accessed only by the organization's users.\n",
    "Example: Google Application Suite (Gmail, Google Apps, and Google Drive), \n",
    "Office 365 (MS Office on the Web and One Drive), Amazon Web Services\n",
    "\"\"\""
   ]
  },
  {
   "cell_type": "code",
   "execution_count": null,
   "id": "5867ba99",
   "metadata": {},
   "outputs": [],
   "source": []
  },
  {
   "cell_type": "markdown",
   "id": "87ce7ed8",
   "metadata": {},
   "source": [
    "# 5) What are some cloud computing advantages?\n"
   ]
  },
  {
   "cell_type": "code",
   "execution_count": null,
   "id": "07736f19",
   "metadata": {},
   "outputs": [],
   "source": [
    "\"\"\"# 1)Cloud allows us to quickly and easily access store information anywhere\n",
    "anytime in the whole world, using an internet connection.\n",
    "An internet cloud infrastructure increases organization productivity and \n",
    "efficiency by ensuring that our data is always accessible\n",
    "2)it also reduce hardware cost for startups and they only \n",
    "pay what they use none more than that\n",
    "3)Reduced IT costs\n",
    "4)also used by netflix(using aws)\n",
    "5)help in forward and backward both type of scalabality\"\"\""
   ]
  },
  {
   "cell_type": "markdown",
   "id": "186ac0fa",
   "metadata": {},
   "source": [
    "# 6)Differentiate Capital expenses vs. operating expenses"
   ]
  },
  {
   "cell_type": "code",
   "execution_count": null,
   "id": "22544df8",
   "metadata": {},
   "outputs": [],
   "source": [
    "\"\"\"capital expense____\n",
    "if we buy a computer for doing all the work for our company\n",
    "like managing all things it is like capital expense bcz we bought it and now\n",
    "it is our ptoperty\n",
    "\n",
    "operating expense____\n",
    "if we pay for the thing we use only at the time of need like cloud computing\n",
    "services like azure it is like operating expense.\n",
    "it is benificial also bcz when we are not using\n",
    "it we have not to pay money so it is count as operating expense\"\"\""
   ]
  }
 ],
 "metadata": {
  "kernelspec": {
   "display_name": "Python 3 (ipykernel)",
   "language": "python",
   "name": "python3"
  },
  "language_info": {
   "codemirror_mode": {
    "name": "ipython",
    "version": 3
   },
   "file_extension": ".py",
   "mimetype": "text/x-python",
   "name": "python",
   "nbconvert_exporter": "python",
   "pygments_lexer": "ipython3",
   "version": "3.9.7"
  }
 },
 "nbformat": 4,
 "nbformat_minor": 5
}
